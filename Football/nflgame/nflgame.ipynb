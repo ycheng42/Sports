{
 "cells": [
  {
   "cell_type": "markdown",
   "metadata": {},
   "source": [
    "# What is nfl game?\n",
    "\n",
    "nflgame is a convenient tool that can be used to programmatically analyze statistics from NFL games. The data is retrieved directly from NFL.com. In fact, it's the same data used to power NFL.com's live updating Game Center. (For the curious, the data is not scraped—it is taken directly from a JSON feed.)"
   ]
  },
  {
   "cell_type": "markdown",
   "metadata": {},
   "source": [
    "### The top 10 running backs by rushing yards in the week 11 of the 2015 season"
   ]
  },
  {
   "cell_type": "code",
   "execution_count": 32,
   "metadata": {
    "collapsed": false
   },
   "outputs": [],
   "source": [
    "import nflgame # nflgame 1.2.18"
   ]
  },
  {
   "cell_type": "code",
   "execution_count": 33,
   "metadata": {
    "collapsed": false
   },
   "outputs": [
    {
     "name": "stdout",
     "output_type": "stream",
     "text": [
      "D.Martin 27 carriers for 235 yards and 0 TDs\n",
      "T.Rawls 30 carriers for 209 yards and 0 TDs\n",
      "D.McFadden 29 carriers for 129 yards and 0 TDs\n",
      "R.Hillman 21 carriers for 102 yards and 0 TDs\n",
      "J.Stewart 21 carriers for 102 yards and 0 TDs\n",
      "E.Lacy 22 carriers for 100 yards and 0 TDs\n",
      "S.Ware 11 carriers for 96 yards and 0 TDs\n",
      "A.Andrews 15 carriers for 78 yards and 0 TDs\n",
      "J.Allen 22 carriers for 67 yards and 0 TDs\n",
      "T.Gurley 25 carriers for 66 yards and 0 TDs\n"
     ]
    }
   ],
   "source": [
    "games = nflgame.games(2015, week=11)\n",
    "players = nflgame.combine_game_stats(games)\n",
    "for p in players.rushing().sort('rushing_yds').limit(10):\n",
    "    msg = '%s %d carriers for %d yards and %d TDs'\n",
    "    print msg % (p, p.rushing_att, p.rushing_yds, p.rushing_TDs)"
   ]
  },
  {
   "cell_type": "markdown",
   "metadata": {},
   "source": [
    "### The top 5 passing plays in the same time period"
   ]
  },
  {
   "cell_type": "code",
   "execution_count": 34,
   "metadata": {
    "collapsed": false
   },
   "outputs": [
    {
     "name": "stdout",
     "output_type": "stream",
     "text": [
      "(ARI, ARI 36, Q3, 1 and 10) (11:32) C.Palmer pass deep right to J.Nelson for 64 yards, TOUCHDOWN.\n",
      "(HOU, HOU 39, Q2, 2 and 2) (3:13) T.Yates pass deep middle to D.Hopkins for 61 yards, TOUCHDOWN.\n",
      "(WAS, WAS 44, Q1, 2 and 12) (8:36) (Shotgun) K.Cousins pass deep right to D.Jackson for 56 yards, TOUCHDOWN. Penalty on CAR-J.Norman, Illegal Use of Hands, declined.\n",
      "(DEN, CHI 48, Q1, 1 and 10) (12:26) B.Osweiler pass short middle to D.Thomas for 48 yards, TOUCHDOWN.\n",
      "(MIN, GB 47, Q1, 2 and 8) (3:11) T.Bridgewater pass deep left to K.Rudolph for 47 yards, TOUCHDOWN. GB-M.Hyde was injured during the play.\n"
     ]
    }
   ],
   "source": [
    "import nflgame\n",
    "\n",
    "games = nflgame.games(2015, week=11)\n",
    "plays = nflgame.combine_plays(games)\n",
    "for p in plays.sort('passing_yds').limit(5):\n",
    "    print p"
   ]
  },
  {
   "cell_type": "markdown",
   "metadata": {},
   "source": [
    "## reference\n",
    "* [BurntSushi/nflgame](https://github.com/BurntSushi/nflgame)\n",
    "* [nflgame API tutorial for non programmers: Installation and examples](https://github.com/BurntSushi/nflgame/wiki/Tutorial-for-non-programmers:-Installation-and-examples)"
   ]
  }
 ],
 "metadata": {
  "kernelspec": {
   "display_name": "Python 2",
   "language": "python",
   "name": "python2"
  },
  "language_info": {
   "codemirror_mode": {
    "name": "ipython",
    "version": 2
   },
   "file_extension": ".py",
   "mimetype": "text/x-python",
   "name": "python",
   "nbconvert_exporter": "python",
   "pygments_lexer": "ipython2",
   "version": "2.7.10"
  }
 },
 "nbformat": 4,
 "nbformat_minor": 0
}
