{
 "cells": [
  {
   "cell_type": "code",
   "execution_count": 64,
   "metadata": {
    "collapsed": false
   },
   "outputs": [],
   "source": [
    "import json\n",
    "with open('./data/Alltimenbaplayerslist.json') as json_data:\n",
    "    k = json.load(json_data)"
   ]
  },
  {
   "cell_type": "code",
   "execution_count": 65,
   "metadata": {
    "collapsed": false
   },
   "outputs": [
    {
     "data": {
      "text/plain": [
       "3960"
      ]
     },
     "execution_count": 65,
     "metadata": {},
     "output_type": "execute_result"
    }
   ],
   "source": [
    "players_alltime = k['apiResults'][0]['league']['players']\n",
    "len(players_alltime)"
   ]
  },
  {
   "cell_type": "code",
   "execution_count": 101,
   "metadata": {
    "collapsed": false
   },
   "outputs": [
    {
     "data": {
      "text/plain": [
       "{u'birth': {u'birthDate': {u'date': 20,\n",
       "   u'full': u'1956-08-20',\n",
       "   u'month': 8,\n",
       "   u'year': 1956},\n",
       "  u'city': u'Amelia',\n",
       "  u'country': {u'abbreviation': u'USA',\n",
       "   u'countryId': 1,\n",
       "   u'name': u'United States'},\n",
       "  u'state': {u'abbreviation': u'VA', u'name': u'Virginia', u'stateId': 46}},\n",
       " u'college': {u'collegeId': 233,\n",
       "  u'commonName': u'Norfolk State',\n",
       "  u'fullName': u'Norfolk State University'},\n",
       " u'displayId': 0,\n",
       " u'draft': {u'overallPickNumber': 104,\n",
       "  u'round': 5,\n",
       "  u'roundPickNumber': 16,\n",
       "  u'team': {u'abbreviation': u'GS',\n",
       "   u'location': u'Golden State',\n",
       "   u'nickname': u'Warriors',\n",
       "   u'teamId': 9},\n",
       "  u'year': 1977},\n",
       " u'experience': {u'experience': 1, u'yearFirst': 1978, u'yearRookie': 1978},\n",
       " u'firstName': u'Ray',\n",
       " u'height': {u'centimeters': 198.0, u'inches': 78.0},\n",
       " u'hometown': {},\n",
       " u'isActive': False,\n",
       " u'isInjured': False,\n",
       " u'isSuspended': False,\n",
       " u'lastName': u'Epps',\n",
       " u'playerId': 657,\n",
       " u'positions': [{u'abbreviation': u'SF',\n",
       "   u'name': u'Small Forward',\n",
       "   u'positionId': 5,\n",
       "   u'sequence': 1}],\n",
       " u'weight': {u'kilograms': 88.45, u'pounds': 195.0}}"
      ]
     },
     "execution_count": 101,
     "metadata": {},
     "output_type": "execute_result"
    }
   ],
   "source": [
    "players_alltime[3959]"
   ]
  },
  {
   "cell_type": "code",
   "execution_count": 69,
   "metadata": {
    "collapsed": false
   },
   "outputs": [
    {
     "data": {
      "text/plain": [
       "str"
      ]
     },
     "execution_count": 69,
     "metadata": {},
     "output_type": "execute_result"
    }
   ],
   "source": [
    "type(str(players_alltime[2]['college']['commonName']))"
   ]
  },
  {
   "cell_type": "code",
   "execution_count": 97,
   "metadata": {
    "collapsed": false
   },
   "outputs": [
    {
     "name": "stdout",
     "output_type": "stream",
     "text": [
      "[(1, 'South Carolina Upstate'), (1, 'St. Rose'), (14, 'NYU'), (1, 'Sam Houston State'), (12, 'Toledo'), (53, 'Indiana'), (1, 'Washington & Jefferson'), (7, 'Central Michigan'), (1, 'Brown'), (4, 'Columbia'), (2, 'Furman'), (6, 'Morehead State'), (7, 'Utah State'), (1, 'Wheaton (IL)'), (10, 'UAB'), (1, 'American University'), (10, 'Tulane'), (1, 'Averett'), (1, 'Mount Union'), (3, 'Kent State'), (17, 'Xavier'), (19, 'Long Beach State'), (7, 'Charlotte'), (8, 'Canisius'), (26, 'Wake Forest'), (6, 'Northeastern'), (9, 'Seattle'), (1, 'Cal Poly-Pomona'), (39, 'Villanova'), (1, 'Howard'), (2, 'Augustana (SD)'), (1, 'Marist'), (4, 'Denver'), (1, 'Trabajara (Brazil) Univ.'), (2, 'Kentucky Wesleyan'), (38, 'Maryland'), (9, 'Rice'), (1, 'South Houston State'), (2, \"St. Mary's (TX)\"), (20, 'Boston College'), (47, 'Arizona'), (2, 'Texas State'), (1, 'San Diego'), (33, 'LSU'), (2, 'Delta State'), (1, 'Westchester (NY) CC'), (1, 'Walsh'), (1, 'Houston Baptist'), (2, 'Whitworth'), (1, 'Ohio Wesleyan'), (1, 'Okaloosa-Walton CC'), (1, 'Millersville'), (1, 'UMKC'), (12, 'Baylor'), (3, 'Maryland State'), (5, 'Ohio'), (1, 'Delaware State'), (22, 'Iowa State'), (1, 'Pfeiffer'), (1, 'Mercer'), (4, 'Northern Illinois'), (37, 'Georgia Tech'), (34, 'Marquette'), (1, 'San Francisco City'), (1, 'Maine'), (2, 'Virginia Military'), (5, 'Southern University'), (3, 'Richmond'), (26, 'Providence'), (51, 'Louisville'), (2, 'Wisconsin-Eau Claire'), (14, 'Washington State'), (1, 'Biscayne'), (5, 'Davidson'), (1, 'Texas Wesleyan'), (16, 'Vanderbilt'), (1, 'Akron'), (31, 'Memphis'), (12, 'Cal State Fullerton'), (1, 'Central Arkansas'), (50, 'Notre Dame'), (12, 'Creighton'), (62, 'Duke'), (15, 'Bowling Green'), (87, 'UCLA'), (5, 'Pacific'), (1, 'Christopher Newport'), (9, 'Texas A&M'), (3, 'North Texas'), (6, 'Oklahoma City'), (10, 'Nevada'), (4, 'Illinois State'), (1, 'North Park'), (3, 'Missouri State'), (1, 'Jacksonville State'), (1, 'Hardin-Simmons'), (1, 'Seward County CC'), (4, 'St. Francis (PA)'), (1, 'Fort Valley State'), (2, 'Portland State'), (1, 'Hartford'), (6, 'Louisiana-Lafayette'), (1, 'Prairie View A&M'), (4, 'Chattanooga'), (1, \"Master's College\"), (1, 'Southeastern Illinois JC'), (3, 'Georgia Southern'), (3, 'Northern Arizona'), (1, 'Fayetteville State'), (9, 'Nebraska'), (3, 'Yale'), (11, 'New Mexico State'), (6, 'McNeese State'), (1, 'Southeast Missouri State'), (2, 'Muhlenberg'), (20, 'Fresno State'), (1, 'Lehigh'), (6, 'UC-Irvine'), (9, 'Long Island'), (29, 'Tennessee'), (1, 'Central Oklahoma'), (9, 'Mississippi'), (22, 'Wyoming'), (38, 'Minnesota'), (38, 'Illinois'), (6, 'Arkansas-Little Rock'), (10, 'Grambling State'), (1, 'Wisconsin-Parkside'), (6, 'Pan American'), (12, 'UTEP'), (2, 'Central State'), (14, 'Clemson'), (30, 'Texas'), (1, 'Shaw'), (1, 'Morehouse'), (1, 'Midland College'), (1, 'Akademik Varna - Bulgaria'), (3, 'City College of New York'), (1, 'Western Illinois'), (15, 'West Virginia'), (10, 'Southern Illinois'), (8, 'Miami (OH)'), (6, 'Indiana State'), (1, 'California (PA)'), (29, 'DePaul'), (1, 'Barton County CC (Kansas)'), (1, 'Dillard'), (1, 'New Mexico Highlands'), (2, 'Indian Hills CC'), (1, 'Wofford'), (10, 'Miami (FL)'), (1, 'West Virginia Tech'), (3, 'Towson'), (2, 'Liberty'), (1, 'Southeastern Oklahoma'), (1, 'Augsburg'), (1, 'Union Olimpija Ljubljana (Slov'), (9, 'Colorado State'), (3, 'East Carolina'), (1, 'John Marshall'), (3, \"St. Peter's\"), (1, 'Alabama State'), (12, 'Northwestern'), (3, 'Alcorn State'), (2, 'Eastern Illinois'), (1, 'Buffalo'), (2, 'Loyola (MD)'), (2, 'North Carolina Wilmington'), (1, 'Auburn-Montgomery'), (1, 'Ouachita Baptist'), (3, 'Valparaiso'), (2, 'Villa Madonna'), (1, 'Elon'), (1, 'Huntington'), (1, 'Youngstown State'), (1, 'West Georgia'), (19, 'Oklahoma'), (1, 'East Tennessee State'), (16, \"St. Joseph's\"), (44, \"St. John's\"), (1, 'Montevallo'), (1, 'Trenton State'), (4, 'Albany State (GA)'), (23, 'Oklahoma State'), (1, 'Eastern Washington'), (1, 'William Paterson'), (1, 'Lawrence Tech'), (1, 'Miles'), (16, 'Pepperdine'), (3, 'Charleston'), (4, 'Texas Southern'), (18, 'Colorado'), (7, 'UC-Santa Barbara'), (19, 'Auburn'), (7, 'New Orleans'), (1, 'St. Vincent'), (1, 'Maryland-Eastern Shore'), (1, 'Westminster'), (1, 'American International'), (4, 'Western Carolina'), (6, 'Eastern Kentucky'), (4, 'Norfolk State'), (1, 'West Virginia Wesleyan'), (4, 'Idaho'), (19, 'Virginia'), (27, 'Arizona State'), (1, 'Rider'), (2, 'UCF'), (3, 'Drexel'), (1, 'Mount San Antonio JC'), (20, 'South Carolina'), (6, 'Virginia Union'), (2, 'Florida International'), (7, 'Hawaii'), (88, 'Kentucky'), (1, 'Potsdam State'), (1, 'North Carolina Central'), (29, 'Iowa'), (28, 'Alabama'), (3, 'Tennessee Tech'), (1, 'Blinn (TX) JC'), (1, 'Cal State Northridge'), (1, 'Lewis'), (3, 'Gardner-Webb'), (1, 'Meridian (MS) CC'), (1, 'Belmont Abbey'), (1, 'IUPUI'), (10, 'San Diego State'), (1, 'Rhode Island State'), (1, 'BYU-Hawaii'), (1, 'Alabama A&M'), (7, 'Virginia Commonwealth'), (4, 'Dartmouth'), (6, 'San Jose State'), (20, 'La Salle'), (1, 'District of Columbia AKT'), (10, 'Tulsa'), (62, 'Kansas'), (29, 'Florida State'), (1, 'Illinois Wesleyan'), (2, 'Texas-San Antonio'), (2, 'Grand Canyon'), (1, 'Texas Western'), (14, 'Jackson State'), (5, 'Louisiana-Monroe'), (1, 'Phillips'), (2, 'North Carolina A&T'), (30, 'Washington'), (1, 'Utah Valley University'), (8, 'Murray State'), (1, 'Rochester'), (5, 'Hofstra'), (1, 'West Florida'), (4, 'South Alabama'), (4, 'Butler'), (4, 'Evansville'), (1, 'Northern Colorado'), (25, 'Wisconsin'), (3, 'Florida A&M'), (1, 'Aurora'), (6, 'TCU'), (20, 'Oregon'), (2, 'Harvard'), (1, 'Arkansas State'), (3, 'West Virginia State'), (2, 'Oklahoma Baptist'), (1, 'Cheyney'), (1, 'Bridgeport'), (25, 'Florida'), (1, 'Eastern New Mexico'), (12, 'Loyola (IL)'), (8, \"Saint Mary's\"), (2, 'Tuskegee'), (1, \"St. Mary's (Canada)\"), (1, 'Wisconsin-Stevens Point'), (1, 'Buffalo State'), (1, 'Slippery Rock'), (6, 'Hamline'), (21, 'Seton Hall'), (74, 'North Carolina'), (2, 'Midwestern State'), (1, 'Clayton State'), (9, 'Penn State'), (1, 'Northeastern State'), (12, 'Santa Clara'), (7, 'Oral Roberts'), (8, 'Loyola Marymount'), (3, 'Lamar'), (14, 'New Mexico'), (1, \"St. Mary's (MN)\"), (29, 'Temple'), (1, 'Bethel'), (1, 'Monmouth'), (4, 'Southern Miss'), (24, 'Oregon State'), (26, 'California'), (19, 'Georgia'), (2, 'Middle Tennessee State'), (2, 'North Dakota'), (9, 'Princeton'), (11, 'Pennsylvania'), (12, 'Saint Louis'), (3, 'Ball State'), (1, 'Nicholls State'), (1, 'Northridge State'), (11, 'Mississippi State'), (2, 'Stetson'), (8, 'Marshall'), (1, 'Morgan State'), (2, 'Wright State'), (1, 'Voorhees College'), (10, 'Eastern Michigan'), (3, 'Centenary'), (11, 'Niagara'), (2, 'Campbell'), (1, 'Wingate'), (1, 'Pikeville College'), (16, 'St. Bonaventure'), (1, 'James Madison'), (1, 'Cal State-San Bernardino'), (34, 'Georgetown'), (6, 'Iona'), (2, 'Northeast Missouri'), (1, \"King's (DE)\"), (1, 'Vermont'), (28, 'Purdue'), (2, 'Navy'), (1, 'East Central'), (1, 'Alliance Athletic Club'), (1, 'Northeast Mississippi CC'), (9, 'Holy Cross'), (27, 'Houston'), (3, 'Hampton'), (6, 'Western Michigan'), (3, 'South Dakota State'), (19, 'Kansas State'), (5, 'Portland'), (1, 'William Paterson(NJ)'), (42, 'Michigan State'), (2, 'Georgia State'), (2, 'Coppin State'), (1, 'Cal State Bakersfield'), (21, 'San Francisco'), (1, 'Bucknell'), (3, 'UIC'), (1, 'Tennessee-Martin'), (5, 'Idaho State'), (33, 'Connecticut'), (1, 'Acadia'), (1, 'Tampa'), (10, 'Drake'), (5, 'Winston-Salem'), (30, 'Missouri'), (1, 'Appalachian State'), (2, 'Kearney State'), (1, 'Wilberforce'), (33, 'Cincinnati'), (3, 'Boston University'), (1, 'Belmont'), (2, 'Mississippi Valley State'), (5, 'Cleveland State'), (17, 'Bradley'), (14, 'Gonzaga'), (1, 'Oklahoma A&M'), (6, 'South Florida'), (1, 'Army'), (1, 'Northwest Louisiana'), (1, 'Assumption'), (1, 'Siena'), (1, 'St. Francis (NY)'), (4, 'Kentucky State'), (17, 'Pittsburgh'), (1, 'Catholic University'), (4, 'Guilford'), (1, \"St. Augustine's\"), (4, 'Montana'), (8, 'Massachusetts'), (1, 'Wayne State (MI)'), (2, \"Mount St. Mary's\"), (45, 'Syracuse'), (1, 'Minnesota-Duluth'), (6, 'Rhode Island'), (1, 'Johnson Smith'), (14, 'Duquesne'), (1, 'South Carolina State'), (3, 'Xavier (LA)'), (13, 'Virginia Tech'), (1, 'Clark Atlanta'), (1, 'Thomas More'), (1, 'Northwestern Oklahoma State'), (2, 'Cornell'), (2, 'Elizabeth City State'), (2, 'Fairfield'), (1, 'Augusta State'), (26, 'Arkansas'), (2, 'Morris Harvey'), (8, 'George Washington'), (1, 'Friendship Junior College'), (2, 'Central Connecticut State'), (17, 'Dayton'), (2, 'Stephen F. Austin'), (11, 'Wichita State'), (3, 'George Mason'), (9, 'Old Dominion'), (3, 'Green Bay'), (8, 'Southern Methodist'), (20, 'Detroit'), (3, 'Austin Peay'), (9, 'Rutgers'), (1, 'Franklin'), (18, 'Brigham Young'), (2, 'William & Mary'), (3, 'West Texas A&M'), (1, 'Lebanon Valley'), (3, 'East Texas State'), (13, 'Tennessee State'), (3, 'Boise State'), (4, 'Colgate'), (41, 'North Carolina State'), (32, 'USC'), (34, 'UNLV'), (3, 'Los Angeles State'), (4, 'Manhattan'), (6, 'Weber State'), (22, 'Utah'), (6, 'Louisiana Tech'), (1, 'River Falls'), (42, 'Ohio State'), (9, 'Jacksonville'), (1, 'Kenyon'), (1, 'LeMoyne'), (27, 'Stanford'), (1, 'Hillsdale'), (1, 'Northwestern State'), (1, 'Longwood'), (25, 'Western Kentucky'), (1, 'Baltimore'), (10, 'Texas Tech'), (7, 'Fordham'), (1, 'Puget Sound'), (2, 'Oakland'), (45, 'Michigan')]\n",
      "\n",
      "Kentucky 88\n",
      "UCLA 87\n",
      "North Carolina 74\n",
      "Kansas 62\n",
      "Duke 62\n",
      "Indiana 53\n",
      "Louisville 51\n",
      "Notre Dame 50\n",
      "Arizona 47\n",
      "Syracuse 45\n",
      "Michigan 45\n",
      "St. John's 44\n",
      "Ohio State 42\n",
      "Michigan State 42\n",
      "North Carolina State 41\n"
     ]
    }
   ],
   "source": [
    "lst1 = list()\n",
    "counts = dict()\n",
    "\n",
    "for i in range(0, 3960):\n",
    "    if 'college' in players_alltime[i]:\n",
    "        a = str(players_alltime[i]['college']['commonName'])\n",
    "        lst1.append(a)\n",
    "\n",
    "for word in lst1:\n",
    "    counts[word] = counts.get(word,0) + 1\n",
    "#print counts\n",
    "\n",
    "lst2 = list()\n",
    "for key, val in counts.items():\n",
    "    lst2.append((val,key)) # Tuples in list\n",
    "\n",
    "print lst2\n",
    "print ''\n",
    "\n",
    "# sort by value\n",
    "lst2.sort(reverse=True)\n",
    "for val, key in lst2[:15]:\n",
    "    print key, val"
   ]
  },
  {
   "cell_type": "code",
   "execution_count": 98,
   "metadata": {
    "collapsed": false
   },
   "outputs": [],
   "source": [
    "#from pandas.io.json import json_normalize\n",
    "#json_normalize(players_alltime)"
   ]
  }
 ],
 "metadata": {
  "kernelspec": {
   "display_name": "Python 2",
   "language": "python",
   "name": "python2"
  },
  "language_info": {
   "codemirror_mode": {
    "name": "ipython",
    "version": 2
   },
   "file_extension": ".py",
   "mimetype": "text/x-python",
   "name": "python",
   "nbconvert_exporter": "python",
   "pygments_lexer": "ipython2",
   "version": "2.7.11"
  }
 },
 "nbformat": 4,
 "nbformat_minor": 0
}
